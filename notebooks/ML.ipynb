{
 "cells": [
  {
   "cell_type": "code",
   "execution_count": 1,
   "id": "6c6b4011",
   "metadata": {},
   "outputs": [
    {
     "name": "stderr",
     "output_type": "stream",
     "text": [
      "\u001b[32m2025-10-13 23:53:33.934\u001b[0m | \u001b[1mINFO    \u001b[0m | \u001b[36mdataEngineer.config\u001b[0m:\u001b[36m<module>\u001b[0m:\u001b[36m11\u001b[0m - \u001b[1mPROJ_ROOT path is: /home/jax/NHA-112\u001b[0m\n"
     ]
    }
   ],
   "source": [
    "import sys\n",
    "import os\n",
    "\n",
    "# Get the parent directory (project root)\n",
    "project_root = os.path.abspath('..')\n",
    "sys.path.append(project_root)\n",
    "\n",
    "from dataEngineer.pipeLine import *\n",
    "from dataEngineer.modeling.MLmodel import *"
   ]
  },
  {
   "cell_type": "code",
   "execution_count": 2,
   "id": "8ecb3d97",
   "metadata": {},
   "outputs": [],
   "source": [
    "import pandas as pd"
   ]
  },
  {
   "cell_type": "code",
   "execution_count": 3,
   "id": "9cd731b7",
   "metadata": {},
   "outputs": [],
   "source": [
    "df = pd.read_csv('/home/jax/NHA-112/data/raw/Clean_ready_data.csv',index_col=0)"
   ]
  },
  {
   "cell_type": "code",
   "execution_count": 4,
   "id": "26d714af",
   "metadata": {},
   "outputs": [
    {
     "data": {
      "text/plain": [
       "(568427, 3)"
      ]
     },
     "execution_count": 4,
     "metadata": {},
     "output_type": "execute_result"
    }
   ],
   "source": [
    "df.shape"
   ]
  },
  {
   "cell_type": "code",
   "execution_count": 5,
   "id": "22714005",
   "metadata": {},
   "outputs": [
    {
     "data": {
      "text/html": [
       "<div>\n",
       "<style scoped>\n",
       "    .dataframe tbody tr th:only-of-type {\n",
       "        vertical-align: middle;\n",
       "    }\n",
       "\n",
       "    .dataframe tbody tr th {\n",
       "        vertical-align: top;\n",
       "    }\n",
       "\n",
       "    .dataframe thead th {\n",
       "        text-align: right;\n",
       "    }\n",
       "</style>\n",
       "<table border=\"1\" class=\"dataframe\">\n",
       "  <thead>\n",
       "    <tr style=\"text-align: right;\">\n",
       "      <th></th>\n",
       "      <th>Rating</th>\n",
       "      <th>Summary</th>\n",
       "      <th>Text</th>\n",
       "    </tr>\n",
       "  </thead>\n",
       "  <tbody>\n",
       "    <tr>\n",
       "      <th>0</th>\n",
       "      <td>5</td>\n",
       "      <td>good quality dog food</td>\n",
       "      <td>i have bought several of the vitality canned d...</td>\n",
       "    </tr>\n",
       "    <tr>\n",
       "      <th>1</th>\n",
       "      <td>1</td>\n",
       "      <td>not as advertised</td>\n",
       "      <td>product arrived labeled as jumbo salted peanut...</td>\n",
       "    </tr>\n",
       "    <tr>\n",
       "      <th>2</th>\n",
       "      <td>4</td>\n",
       "      <td>delight says it all</td>\n",
       "      <td>this is a confection that has been around a fe...</td>\n",
       "    </tr>\n",
       "    <tr>\n",
       "      <th>3</th>\n",
       "      <td>2</td>\n",
       "      <td>cough medicine</td>\n",
       "      <td>if you are looking for the secret ingredient i...</td>\n",
       "    </tr>\n",
       "    <tr>\n",
       "      <th>4</th>\n",
       "      <td>5</td>\n",
       "      <td>great taffy</td>\n",
       "      <td>great taffy at a great price  there was a wide...</td>\n",
       "    </tr>\n",
       "  </tbody>\n",
       "</table>\n",
       "</div>"
      ],
      "text/plain": [
       "   Rating                Summary  \\\n",
       "0       5  good quality dog food   \n",
       "1       1      not as advertised   \n",
       "2       4    delight says it all   \n",
       "3       2         cough medicine   \n",
       "4       5            great taffy   \n",
       "\n",
       "                                                Text  \n",
       "0  i have bought several of the vitality canned d...  \n",
       "1  product arrived labeled as jumbo salted peanut...  \n",
       "2  this is a confection that has been around a fe...  \n",
       "3  if you are looking for the secret ingredient i...  \n",
       "4  great taffy at a great price  there was a wide...  "
      ]
     },
     "execution_count": 5,
     "metadata": {},
     "output_type": "execute_result"
    }
   ],
   "source": [
    "df.head()"
   ]
  },
  {
   "cell_type": "code",
   "execution_count": 6,
   "id": "8006c5fe",
   "metadata": {},
   "outputs": [
    {
     "name": "stdout",
     "output_type": "stream",
     "text": [
      "Initial dataset size: 568427 rows.\n",
      "Size after removing empty rows: 568426 rows.\n",
      "Applying sklearn pipeline for text cleaning and lemmatization...\n",
      "Text cleaning and lemmatization complete.\n"
     ]
    },
    {
     "name": "stderr",
     "output_type": "stream",
     "text": [
      "/home/jax/NHA-112/dataEngineer/pipeLine.py:73: SettingWithCopyWarning: \n",
      "A value is trying to be set on a copy of a slice from a DataFrame.\n",
      "Try using .loc[row_indexer,col_indexer] = value instead\n",
      "\n",
      "See the caveats in the documentation: https://pandas.pydata.org/pandas-docs/stable/user_guide/indexing.html#returning-a-view-versus-a-copy\n",
      "  df[\"processed_text\"] = processed_text_series\n"
     ]
    }
   ],
   "source": [
    "data_pipeline = text_preprocessing_sklearn_pipeline(df=df, text_col='Text', rate_col='Rating')\n"
   ]
  },
  {
   "cell_type": "code",
   "execution_count": 3,
   "id": "88d874f9",
   "metadata": {},
   "outputs": [],
   "source": [
    "logreg_classifier = TextClassifier()\n",
    "svm_classifier = TextClassifier(model_type='svm')"
   ]
  },
  {
   "cell_type": "code",
   "execution_count": null,
   "id": "bc8f8abc",
   "metadata": {},
   "outputs": [
    {
     "name": "stdout",
     "output_type": "stream",
     "text": [
      "\n",
      "--- No model found. Training new SVM model from scratch. ---\n",
      "Initializing a new SGDClassifier with hinge loss (Linear SVM).\n",
      "Initial model training complete.\n",
      "\n",
      "Model Accuracy: 0.6869\n",
      "Classification Report:\n",
      "              precision    recall  f1-score   support\n",
      "\n",
      "           1       0.55      0.46      0.50     10454\n",
      "           2       0.24      0.03      0.05      5949\n",
      "           3       0.39      0.12      0.18      8527\n",
      "           4       0.44      0.05      0.09     16131\n",
      "           5       0.71      0.98      0.83     72625\n",
      "\n",
      "    accuracy                           0.69    113686\n",
      "   macro avg       0.47      0.33      0.33    113686\n",
      "weighted avg       0.61      0.69      0.60    113686\n",
      "\n",
      "Model and vectorizer saved successfully to /home/jax/NHA-112/models/\n"
     ]
    }
   ],
   "source": [
    "\n",
    "logreg_classifier.train(data_pipeline)\n"
   ]
  },
  {
   "cell_type": "code",
   "execution_count": 8,
   "id": "86d89359",
   "metadata": {},
   "outputs": [
    {
     "name": "stdout",
     "output_type": "stream",
     "text": [
      "Model and vectorizer loaded successfully from /home/jax/NHA-112/models/\n",
      "\n",
      "Prediction for 'service was fast and the food was absolutely delicious': 5-star\n"
     ]
    }
   ],
   "source": [
    "new_reviews = [\"service was fast and the food was absolutely delicious\"]\n",
    "predictions = logreg_classifier.predict(new_reviews)\n",
    "print(f\"\\nPrediction for '{new_reviews[0]}': {predictions[0]}-star\")\n"
   ]
  },
  {
   "cell_type": "code",
   "execution_count": null,
   "id": "2bf71935",
   "metadata": {},
   "outputs": [],
   "source": [
    "svm_classifier.train(data_pipeline)\n"
   ]
  },
  {
   "cell_type": "code",
   "execution_count": null,
   "id": "57553556",
   "metadata": {},
   "outputs": [],
   "source": [
    "new_reviews = [\"service was fast and the food was absolutely delicious\"]\n",
    "predictions = svm_classifier.predict(new_reviews)\n",
    "print(f\"\\nPrediction for '{new_reviews[0]}': {predictions[0]}-star\")\n"
   ]
  },
  {
   "cell_type": "markdown",
   "id": "c62649dc",
   "metadata": {},
   "source": [
    "# train on new data"
   ]
  },
  {
   "cell_type": "code",
   "execution_count": 4,
   "id": "ccd6ac77",
   "metadata": {},
   "outputs": [],
   "source": [
    "new_df = pd.read_csv('/home/jax/NHA-112/data/interim/Scraped_data.csv',index_col=0)"
   ]
  },
  {
   "cell_type": "code",
   "execution_count": 5,
   "id": "42bede94",
   "metadata": {},
   "outputs": [
    {
     "data": {
      "text/html": [
       "<div>\n",
       "<style scoped>\n",
       "    .dataframe tbody tr th:only-of-type {\n",
       "        vertical-align: middle;\n",
       "    }\n",
       "\n",
       "    .dataframe tbody tr th {\n",
       "        vertical-align: top;\n",
       "    }\n",
       "\n",
       "    .dataframe thead th {\n",
       "        text-align: right;\n",
       "    }\n",
       "</style>\n",
       "<table border=\"1\" class=\"dataframe\">\n",
       "  <thead>\n",
       "    <tr style=\"text-align: right;\">\n",
       "      <th></th>\n",
       "      <th>Rating</th>\n",
       "      <th>Text</th>\n",
       "    </tr>\n",
       "  </thead>\n",
       "  <tbody>\n",
       "    <tr>\n",
       "      <th>0</th>\n",
       "      <td>5</td>\n",
       "      <td>blew my expectations away truly nextgen gaming...</td>\n",
       "    </tr>\n",
       "    <tr>\n",
       "      <th>1</th>\n",
       "      <td>3</td>\n",
       "      <td>good for nothing</td>\n",
       "    </tr>\n",
       "    <tr>\n",
       "      <th>2</th>\n",
       "      <td>5</td>\n",
       "      <td>fantastic deal on fast delivery great price an...</td>\n",
       "    </tr>\n",
       "    <tr>\n",
       "      <th>3</th>\n",
       "      <td>5</td>\n",
       "      <td>excellent product just nice for one hands i ha...</td>\n",
       "    </tr>\n",
       "    <tr>\n",
       "      <th>4</th>\n",
       "      <td>5</td>\n",
       "      <td>super duper i use thanks noon</td>\n",
       "    </tr>\n",
       "  </tbody>\n",
       "</table>\n",
       "</div>"
      ],
      "text/plain": [
       "   Rating                                               Text\n",
       "0       5  blew my expectations away truly nextgen gaming...\n",
       "1       3                                   good for nothing\n",
       "2       5  fantastic deal on fast delivery great price an...\n",
       "3       5  excellent product just nice for one hands i ha...\n",
       "4       5                      super duper i use thanks noon"
      ]
     },
     "execution_count": 5,
     "metadata": {},
     "output_type": "execute_result"
    }
   ],
   "source": [
    "new_df.head()"
   ]
  },
  {
   "cell_type": "code",
   "execution_count": 6,
   "id": "06a4da19",
   "metadata": {},
   "outputs": [
    {
     "name": "stdout",
     "output_type": "stream",
     "text": [
      "Initial dataset size: 2895 rows.\n",
      "Size after removing empty rows: 2711 rows.\n",
      "Applying sklearn pipeline for text cleaning and lemmatization...\n",
      "Text cleaning and lemmatization complete.\n"
     ]
    }
   ],
   "source": [
    "data_pipeline = text_preprocessing_sklearn_pipeline(df=new_df, text_col='Text', rate_col='Rating')"
   ]
  },
  {
   "cell_type": "code",
   "execution_count": 7,
   "id": "b026bf39",
   "metadata": {},
   "outputs": [
    {
     "name": "stdout",
     "output_type": "stream",
     "text": [
      "\n",
      "--- Found existing model. Performing incremental update. ---\n",
      "Model and vectorizer loaded successfully from /home/jax/NHA-112/models/\n",
      "\n",
      "`split_new_data_for_eval` is True. Splitting new data for evaluation...\n",
      "\n",
      "--- Performance on New Batch BEFORE Update ---\n",
      "Model Accuracy: 0.7826\n",
      "Classification Report:\n",
      "              precision    recall  f1-score   support\n",
      "\n",
      "           1       0.57      0.12      0.20        99\n",
      "           2       0.00      0.00      0.00        15\n",
      "           3       0.00      0.00      0.00        21\n",
      "           4       1.00      0.02      0.04        46\n",
      "           5       0.79      0.99      0.88       633\n",
      "\n",
      "    accuracy                           0.78       814\n",
      "   macro avg       0.47      0.23      0.22       814\n",
      "weighted avg       0.74      0.78      0.71       814\n",
      "\n",
      "\n",
      "--- Performance on New Batch AFTER Update ---\n",
      "Model Accuracy: 0.7801\n",
      "Classification Report:\n",
      "              precision    recall  f1-score   support\n",
      "\n",
      "           1       0.53      0.10      0.17        99\n",
      "           2       0.00      0.00      0.00        15\n",
      "           3       0.00      0.00      0.00        21\n",
      "           4       1.00      0.02      0.04        46\n",
      "           5       0.79      0.99      0.88       633\n",
      "\n",
      "    accuracy                           0.78       814\n",
      "   macro avg       0.46      0.22      0.22       814\n",
      "weighted avg       0.73      0.78      0.70       814\n",
      "\n",
      "\n",
      "Model update complete.\n",
      "Model and vectorizer saved successfully to /home/jax/NHA-112/models/\n"
     ]
    }
   ],
   "source": [
    "logreg_classifier.train(data_pipeline)"
   ]
  },
  {
   "cell_type": "code",
   "execution_count": 8,
   "id": "d76d3579",
   "metadata": {},
   "outputs": [
    {
     "name": "stdout",
     "output_type": "stream",
     "text": [
      "\n",
      "--- Found existing model. Performing incremental update. ---\n",
      "Model and vectorizer loaded successfully from /home/jax/NHA-112/models/\n",
      "\n",
      "`split_new_data_for_eval` is True. Splitting new data for evaluation...\n",
      "\n",
      "--- Performance on New Batch BEFORE Update ---\n",
      "Model Accuracy: 0.7482\n",
      "Classification Report:\n",
      "              precision    recall  f1-score   support\n",
      "\n",
      "           1       0.29      0.20      0.24        99\n",
      "           2       0.00      0.00      0.00        15\n",
      "           3       0.00      0.00      0.00        21\n",
      "           4       0.50      0.02      0.04        46\n",
      "           5       0.79      0.93      0.86       633\n",
      "\n",
      "    accuracy                           0.75       814\n",
      "   macro avg       0.32      0.23      0.23       814\n",
      "weighted avg       0.68      0.75      0.70       814\n",
      "\n",
      "\n",
      "--- Performance on New Batch AFTER Update ---\n",
      "Model Accuracy: 0.7789\n",
      "Classification Report:\n",
      "              precision    recall  f1-score   support\n",
      "\n",
      "           1       0.50      0.11      0.18        99\n",
      "           2       0.00      0.00      0.00        15\n",
      "           3       0.00      0.00      0.00        21\n",
      "           4       0.00      0.00      0.00        46\n",
      "           5       0.79      0.98      0.88       633\n",
      "\n",
      "    accuracy                           0.78       814\n",
      "   macro avg       0.26      0.22      0.21       814\n",
      "weighted avg       0.68      0.78      0.70       814\n",
      "\n",
      "\n",
      "Model update complete.\n",
      "Model and vectorizer saved successfully to /home/jax/NHA-112/models/\n"
     ]
    }
   ],
   "source": [
    "svm_classifier.train(data_pipeline)"
   ]
  }
 ],
 "metadata": {
  "kernelspec": {
   "display_name": "myenv",
   "language": "python",
   "name": "python3"
  },
  "language_info": {
   "codemirror_mode": {
    "name": "ipython",
    "version": 3
   },
   "file_extension": ".py",
   "mimetype": "text/x-python",
   "name": "python",
   "nbconvert_exporter": "python",
   "pygments_lexer": "ipython3",
   "version": "3.12.3"
  }
 },
 "nbformat": 4,
 "nbformat_minor": 5
}
